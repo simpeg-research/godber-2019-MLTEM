{
 "cells": [
  {
   "cell_type": "code",
   "execution_count": 1,
   "metadata": {},
   "outputs": [],
   "source": [
    "import numpy as np\n",
    "import SimPEG.Utils as Utils\n",
    "from SimPEG.EM import TDEM\n",
    "from SimPEG import Mesh, Maps\n",
    "import discretize\n",
    "import pickle \n",
    "from matplotlib.colors import LogNorm\n",
    "from scipy.constants import mu_0\n",
    "from pymatsolver import Pardiso\n",
    "import math\n",
    "import matplotlib.pyplot as plt\n",
    "import ipywidgets\n",
    "\n",
    "# Set a nice colormap! \n",
    "plt.set_cmap(plt.get_cmap('viridis'))\n",
    "\n"
   ]
  },
  {
   "cell_type": "code",
   "execution_count": 2,
   "metadata": {},
   "outputs": [
    {
     "name": "stdout",
     "output_type": "stream",
     "text": [
      "min diffusion distance: 21.66 m\n",
      "max diffusion distance: 3609.37 m\n",
      "max grid dimensions: 32102.98m, 31907.98m\n"
     ]
    }
   ],
   "source": [
    "def diffusion_distance(sigma, time):\n",
    "    return 1.28*np.sqrt(time/(sigma * mu_0))\n",
    "\n",
    "sigma_air = 1e-8\n",
    "sigma_near_surface = 1/3\n",
    "sigma_basement = 1/100\n",
    "thickness_near_surface = 50.\n",
    "\n",
    "srcLocation = np.r_[0,0,0.5]\n",
    "rxLocation = np.r_[0,0,0.5]\n",
    "\n",
    "\n",
    "dbdt_sensor_delay = 2e-5\n",
    "b_sensor_delay = 3e-5\n",
    "ramp_off_time = 20e-6\n",
    "source_current = 20\n",
    "source_diameter = 50.\n",
    "radius = math.sqrt(source_diameter**2/math.pi)\n",
    "max_x = 200.\n",
    "max_z = 250.\n",
    "times = np.arange(0.0001,0.1,0.0001)+ramp_off_time\n",
    "\n",
    "print(\n",
    "    'min diffusion distance: {:.2f} m'.format(diffusion_distance(max(sigma_near_surface,sigma_basement), times.min()))\n",
    ")\n",
    "print(\n",
    "    'max diffusion distance: {:6.2f} m'.format(diffusion_distance(min(sigma_near_surface,sigma_basement), times.max()))\n",
    ")\n",
    "\n",
    "csx = 2\n",
    "ncsx = max_x/csx\n",
    "npadx = 17\n",
    "\n",
    "csz = 2\n",
    "ncsz = np.ceil(max_z/csz)\n",
    "npadz = 17\n",
    "\n",
    "pf = 1.7\n",
    "\n",
    "hx = Utils.meshTensor([(csx,ncsx),(csx,npadx,pf)])\n",
    "hz = Utils.meshTensor([(csz,npadz,-pf),(csz,ncsz),(csz,npadz,pf)])\n",
    "mesh = Mesh.CylMesh([hx,1,hz],x0=np.r_[0,0,-hz.sum()/2. - max_z/2. + 5])\n",
    "print('max grid dimensions: {:6.2f}m, {:6.2f}m'.format(max(mesh.gridCC[:,0]),max(mesh.gridCC[:,2]),mesh.nC))\n",
    "\n"
   ]
  },
  {
   "cell_type": "code",
   "execution_count": 3,
   "metadata": {},
   "outputs": [
    {
     "data": {
      "text/plain": [
       "Text(0.5, 1.0, 'Simulation Mesh')"
      ]
     },
     "execution_count": 3,
     "metadata": {},
     "output_type": "execute_result"
    },
    {
     "data": {
      "image/png": "[encoded data removed]",
      "text/plain": [
       "<Figure size 432x288 with 1 Axes>"
      ]
     },
     "metadata": {
      "needs_background": "light"
     },
     "output_type": "display_data"
    }
   ],
   "source": [
    "fig, ax = plt.subplots(1,1)\n",
    "mesh.plotGrid(ax=ax)\n",
    "\n",
    "ax.set_title('Simulation Mesh')\n",
    "\n"
   ]
  },
  {
   "cell_type": "code",
   "execution_count": 4,
   "metadata": {},
   "outputs": [
    {
     "data": {
      "image/png": "[encoded data removed]",
      "text/plain": [
       "<Figure size 432x288 with 2 Axes>"
      ]
     },
     "metadata": {
      "needs_background": "light"
     },
     "output_type": "display_data"
    }
   ],
   "source": [
    "sigma = np.ones(mesh.nC) * sigma_air\n",
    "sigma[mesh.gridCC[:,2] < 0. ] = sigma_near_surface\n",
    "sigma[mesh.gridCC[:,2]< -thickness_near_surface] = sigma_basement\n",
    "\n",
    "xlim = np.r_[-200., 200]\n",
    "zlim = np.r_[-150, 150]\n",
    "fig, ax = plt.subplots(1,1)\n",
    "cb = plt.colorbar(mesh.plotImage(np.log10(sigma),mirror=True,ax=ax)[0])\n",
    "ax.set_xlim(xlim)\n",
    "ax.set_ylim(zlim)\n",
    "plt.show()\n",
    "\n"
   ]
  },
  {
   "cell_type": "code",
   "execution_count": 5,
   "metadata": {},
   "outputs": [
    {
     "name": "stdout",
     "output_type": "stream",
     "text": [
      "The maximum time is 1.1e-01. \n",
      " There are 84 timesteps, 9 of them distinct (which is the same as the number of matrices that need to be factored)\n"
     ]
    }
   ],
   "source": [
    "dbdt_z = TDEM.Rx.Point_dbdt(locs=rxLocation, times=times, orientation='z')  # vertical db_dt\n",
    "rxLocationOffset = np.copy(rxLocation)\n",
    "rxLocation[0] =  0.5*source_diameter\n",
    "dbdt_z_offset = TDEM.Rx.Point_dbdt(locs=rxLocationOffset, times=times,orientation='z')\n",
    "rxList = [dbdt_z,dbdt_z_offset]\n",
    "\n",
    "timeSteps = [(1e-06, 10), (5e-06, 10), (1e-05, 10), (5e-5, 10), (1e-4, 10), (5e-4, 10), (1e-3, 10),(5e-3, 10),(1e-2,4)] \n",
    "\n",
    "wave = TDEM.Src.RampOffWaveform(offTime=ramp_off_time)\n",
    "\n",
    "source = TDEM.Src.CircularLoop(rxList = rxList, loc=srcLocation, radius=source_diameter/2., current=source_current, waveform=wave)\n",
    "survey = TDEM.Survey([source])\n",
    "sigmaMap = Maps.IdentityMap(mesh)\n",
    "problem = TDEM.Problem3D_b(mesh, sigmaMap=sigmaMap, timeSteps=timeSteps, Solver=Pardiso)\n",
    "problem.pair(survey)\n",
    "print(\n",
    "    'The maximum time is {:1.1e}. \\n There are {} timesteps, '\n",
    "    '{} of them distinct (which is the same as the number of matrices that need to be factored)'.format(\n",
    "        problem.times[-1], problem.nT, (len(timeSteps))\n",
    "    )\n",
    ")\n",
    "\n"
   ]
  },
  {
   "cell_type": "code",
   "execution_count": 6,
   "metadata": {},
   "outputs": [],
   "source": [
    "fields = problem.fields(sigma)"
   ]
  },
  {
   "cell_type": "code",
   "execution_count": 8,
   "metadata": {},
   "outputs": [
    {
     "data": {
      "application/vnd.jupyter.widget-view+json": {
       "model_id": "a426207bf9fc400eaa5f03b2b98c7727",
       "version_major": 2,
       "version_minor": 0
      },
      "text/plain": [
       "interactive(children=(IntSlider(value=10, description='i', max=50, min=1), Output()), _dom_classes=('widget-in…"
      ]
     },
     "metadata": {},
     "output_type": "display_data"
    },
    {
     "data": {
      "text/plain": [
       "<function __main__.plot(i)>"
      ]
     },
     "execution_count": 8,
     "metadata": {},
     "output_type": "execute_result"
    }
   ],
   "source": [
    "x = np.unique(mesh.gridCC[:,0])\n",
    "y = np.unique(mesh.gridCC[:,2])\n",
    "nx = len(x)\n",
    "ny = len(y)\n",
    "mx, my = np.meshgrid(x,y)\n",
    "\n",
    "def plot(i):\n",
    "    v = np.zeros(survey.nD)\n",
    "    v[i+len(dbdt_z.times)] = 1.\n",
    "    jt = problem.Jtvec(sigma,v,f=fields)\n",
    "\n",
    "    fig, ax = plt.subplots(1,2,figsize=(15,15))\n",
    "    values = jt.reshape((ny,nx))\n",
    "    minColourBar = values.max()*0.01\n",
    "    maxColourBar = values.max()\n",
    "    ax[0].set_aspect('equal')\n",
    "    pcm = ax[0].pcolormesh(mx,my,abs(values),vmin=minColourBar,vmax=maxColourBar)\n",
    "\n",
    "    ax[0].set_title(('Center Receiver Sensitivty %5.2f ms')%((dbdt_z.times[i]- ramp_off_time)*1e3))\n",
    "    ax[0].set_xlim([0,200])\n",
    "    ax[0].set_ylim([-200,0])\n",
    "    ax[0].set_ylabel('Depth (m)')\n",
    "    ax[0].set_xlabel('Radius (m)')\n",
    "    fig.colorbar(pcm,ax=ax[0],fraction=0.046, pad=0.04)\n",
    "    x = np.linspace(-400,400,100)\n",
    "    y = np.zeros(len(x))\n",
    "    ax[0].plot(x,y,'b-')\n",
    "    y = np.ones(len(x))*-thickness_near_surface\n",
    "    ax[0].plot(x,y,'b-')\n",
    "\n",
    "    v = np.zeros(survey.nD)\n",
    "    v[i] = 1.\n",
    "    jt = problem.Jtvec(sigma,v,f=fields)\n",
    "\n",
    "    values = jt.reshape((ny,nx))\n",
    "    ax[1].set_aspect('equal')\n",
    "    pco = ax[1].pcolormesh(mx,my,abs(values),vmin=minColourBar,vmax=maxColourBar)\n",
    "    ax[1].set_title(('25m Offset Receiver Sensitivity at %5.2f ms')%((dbdt_z.times[i]- ramp_off_time)*1e3))\n",
    "    ax[1].set_xlim([0,200])\n",
    "    ax[1].set_ylim([-200,0])\n",
    "    fig.colorbar(pco,ax=ax[1],fraction=0.046, pad=0.04)\n",
    "    x = np.linspace(-400,400,100)\n",
    "    y = np.zeros(len(x))\n",
    "    ax[1].plot(x,y,'b-')\n",
    "    y = np.ones(len(x))*-thickness_near_surface\n",
    "    ax[1].plot(x,y,'b-')\n",
    "    ax[1].set_ylabel('Depth (m)')\n",
    "    ax[1].set_xlabel('Radius (m)')\n",
    "    \n",
    "    return ax\n",
    "\n",
    "ipywidgets.interact(\n",
    "    plot, \n",
    "    i=ipywidgets.IntSlider(min=1, max=50, value=10) \n",
    ")"
   ]
  },
  {
   "cell_type": "code",
   "execution_count": null,
   "metadata": {},
   "outputs": [],
   "source": []
  }
 ],
 "metadata": {
  "file_extension": ".py",
  "kernelspec": {
   "display_name": "Python 3",
   "language": "python",
   "name": "python3"
  },
  "language_info": {
   "codemirror_mode": {
    "name": "ipython",
    "version": 3
   },
   "file_extension": ".py",
   "mimetype": "text/x-python",
   "name": "python",
   "nbconvert_exporter": "python",
   "pygments_lexer": "ipython3",
   "version": "3.7.3"
  },
  "mimetype": "text/x-python",
  "name": "python",
  "npconvert_exporter": "python",
  "pygments_lexer": "ipython3",
  "version": 3
 },
 "nbformat": 4,
 "nbformat_minor": 2
}
